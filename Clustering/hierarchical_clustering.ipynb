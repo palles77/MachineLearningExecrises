{
 "cells": [
  {
   "cell_type": "code",
   "execution_count": 1,
   "metadata": {
    "executionInfo": {
     "elapsed": 704,
     "status": "ok",
     "timestamp": 1643487974897,
     "user": {
      "displayName": "Leslaw Pawlaczyk",
      "photoUrl": "https://lh3.googleusercontent.com/a-/AOh14GgnI8V6mIUOC0XwCEbi7RxZ1JbLfKTl1io0l0DBfw=s64",
      "userId": "17845568829058524609"
     },
     "user_tz": -60
    },
    "id": "N7fz1h0KYTIe"
   },
   "outputs": [],
   "source": [
    "import pandas as pd\n",
    "import numpy as np\n",
    "\n",
    "x = [1.88505201, 0.75858685, 0.53086046, 2.10121118, 2.90456146, 2.82199243, 1.21688824, 2.08582494, 2.80032271, 2.8871096,  1.89067363, 1.05548585]\n",
    "y = [1.83256566, 0.84474922, 0.9779429,  1.81776092, 0.91189043, 0.90186282, 1.19189881, 1.8977981,  1.09191789, 1.02681764, 2.48316704, 1.01289176]"
   ]
  },
  {
   "cell_type": "markdown",
   "metadata": {
    "id": "4J5JiFolYm3D"
   },
   "source": [
    "**PLOT DATA**"
   ]
  },
  {
   "cell_type": "code",
   "execution_count": 2,
   "metadata": {
    "colab": {
     "base_uri": "https://localhost:8080/",
     "height": 483
    },
    "executionInfo": {
     "elapsed": 5,
     "status": "ok",
     "timestamp": 1643487976599,
     "user": {
      "displayName": "Leslaw Pawlaczyk",
      "photoUrl": "https://lh3.googleusercontent.com/a-/AOh14GgnI8V6mIUOC0XwCEbi7RxZ1JbLfKTl1io0l0DBfw=s64",
      "userId": "17845568829058524609"
     },
     "user_tz": -60
    },
    "id": "zC4cXq0-YtQc",
    "outputId": "21e357be-8c8d-4958-8927-f18ffa43052e"
   },
   "outputs": [
    {
     "data": {
      "image/png": "[encoded data removed]",
      "text/plain": [
       "<Figure size 800x800 with 1 Axes>"
      ]
     },
     "metadata": {},
     "output_type": "display_data"
    }
   ],
   "source": [
    "import matplotlib.pyplot as plt\n",
    "fig = plt.figure(figsize=(8,8))\n",
    "ax = fig.add_subplot(111)\n",
    "plt.scatter(x,y)\n",
    "numberOfPoints = len(x)\n",
    "labels = []\n",
    "for pt in range(numberOfPoints):\n",
    "    ax.annotate(pt, xy=(x[pt]+0.05, y[pt]+0.05))\n",
    "    labels.append('Point ' +  str(pt))"
   ]
  },
  {
   "cell_type": "markdown",
   "metadata": {
    "id": "wGdb_Tj6Y7va"
   },
   "source": [
    "**CREATE TUPLES**"
   ]
  },
  {
   "cell_type": "code",
   "execution_count": 3,
   "metadata": {
    "colab": {
     "base_uri": "https://localhost:8080/"
    },
    "executionInfo": {
     "elapsed": 241,
     "status": "ok",
     "timestamp": 1643487980446,
     "user": {
      "displayName": "Leslaw Pawlaczyk",
      "photoUrl": "https://lh3.googleusercontent.com/a-/AOh14GgnI8V6mIUOC0XwCEbi7RxZ1JbLfKTl1io0l0DBfw=s64",
      "userId": "17845568829058524609"
     },
     "user_tz": -60
    },
    "id": "LUrLv3Q1ZAqS",
    "outputId": "7c7b70b8-8f06-43f6-c499-e496bf9e96df"
   },
   "outputs": [
    {
     "name": "stdout",
     "output_type": "stream",
     "text": [
      "<zip object at 0x0000018C29B3BF00>\n"
     ]
    }
   ],
   "source": [
    "zipped = zip(x, y)\n",
    "print (zipped)"
   ]
  },
  {
   "cell_type": "markdown",
   "metadata": {
    "id": "KuGvmIfHZJX-"
   },
   "source": [
    "**PLACE DATA INTO A DATA FRAME**"
   ]
  },
  {
   "cell_type": "code",
   "execution_count": 4,
   "metadata": {
    "colab": {
     "base_uri": "https://localhost:8080/",
     "height": 425
    },
    "executionInfo": {
     "elapsed": 237,
     "status": "ok",
     "timestamp": 1643487983472,
     "user": {
      "displayName": "Leslaw Pawlaczyk",
      "photoUrl": "https://lh3.googleusercontent.com/a-/AOh14GgnI8V6mIUOC0XwCEbi7RxZ1JbLfKTl1io0l0DBfw=s64",
      "userId": "17845568829058524609"
     },
     "user_tz": -60
    },
    "id": "3izSrm91ZR9i",
    "outputId": "619194b1-155f-4d0c-8b9c-a77438b0236b"
   },
   "outputs": [
    {
     "data": {
      "text/html": [
       "<div>\n",
       "<style scoped>\n",
       "    .dataframe tbody tr th:only-of-type {\n",
       "        vertical-align: middle;\n",
       "    }\n",
       "\n",
       "    .dataframe tbody tr th {\n",
       "        vertical-align: top;\n",
       "    }\n",
       "\n",
       "    .dataframe thead th {\n",
       "        text-align: right;\n",
       "    }\n",
       "</style>\n",
       "<table border=\"1\" class=\"dataframe\">\n",
       "  <thead>\n",
       "    <tr style=\"text-align: right;\">\n",
       "      <th></th>\n",
       "      <th>x</th>\n",
       "      <th>y</th>\n",
       "    </tr>\n",
       "  </thead>\n",
       "  <tbody>\n",
       "    <tr>\n",
       "      <th>Point 0</th>\n",
       "      <td>1.885052</td>\n",
       "      <td>1.832566</td>\n",
       "    </tr>\n",
       "    <tr>\n",
       "      <th>Point 1</th>\n",
       "      <td>0.758587</td>\n",
       "      <td>0.844749</td>\n",
       "    </tr>\n",
       "    <tr>\n",
       "      <th>Point 2</th>\n",
       "      <td>0.530860</td>\n",
       "      <td>0.977943</td>\n",
       "    </tr>\n",
       "    <tr>\n",
       "      <th>Point 3</th>\n",
       "      <td>2.101211</td>\n",
       "      <td>1.817761</td>\n",
       "    </tr>\n",
       "    <tr>\n",
       "      <th>Point 4</th>\n",
       "      <td>2.904561</td>\n",
       "      <td>0.911890</td>\n",
       "    </tr>\n",
       "    <tr>\n",
       "      <th>Point 5</th>\n",
       "      <td>2.821992</td>\n",
       "      <td>0.901863</td>\n",
       "    </tr>\n",
       "    <tr>\n",
       "      <th>Point 6</th>\n",
       "      <td>1.216888</td>\n",
       "      <td>1.191899</td>\n",
       "    </tr>\n",
       "    <tr>\n",
       "      <th>Point 7</th>\n",
       "      <td>2.085825</td>\n",
       "      <td>1.897798</td>\n",
       "    </tr>\n",
       "    <tr>\n",
       "      <th>Point 8</th>\n",
       "      <td>2.800323</td>\n",
       "      <td>1.091918</td>\n",
       "    </tr>\n",
       "    <tr>\n",
       "      <th>Point 9</th>\n",
       "      <td>2.887110</td>\n",
       "      <td>1.026818</td>\n",
       "    </tr>\n",
       "    <tr>\n",
       "      <th>Point 10</th>\n",
       "      <td>1.890674</td>\n",
       "      <td>2.483167</td>\n",
       "    </tr>\n",
       "    <tr>\n",
       "      <th>Point 11</th>\n",
       "      <td>1.055486</td>\n",
       "      <td>1.012892</td>\n",
       "    </tr>\n",
       "  </tbody>\n",
       "</table>\n",
       "</div>"
      ],
      "text/plain": [
       "                 x         y\n",
       "Point 0   1.885052  1.832566\n",
       "Point 1   0.758587  0.844749\n",
       "Point 2   0.530860  0.977943\n",
       "Point 3   2.101211  1.817761\n",
       "Point 4   2.904561  0.911890\n",
       "Point 5   2.821992  0.901863\n",
       "Point 6   1.216888  1.191899\n",
       "Point 7   2.085825  1.897798\n",
       "Point 8   2.800323  1.091918\n",
       "Point 9   2.887110  1.026818\n",
       "Point 10  1.890674  2.483167\n",
       "Point 11  1.055486  1.012892"
      ]
     },
     "execution_count": 4,
     "metadata": {},
     "output_type": "execute_result"
    }
   ],
   "source": [
    "df = pd.DataFrame(zip(x, y), columns=['x', 'y'], index = labels)\n",
    "df"
   ]
  },
  {
   "cell_type": "markdown",
   "metadata": {
    "id": "EbXFpOJXZtHd"
   },
   "source": [
    "**CREATE DISTANCE MATRIX**"
   ]
  },
  {
   "cell_type": "code",
   "execution_count": 5,
   "metadata": {
    "colab": {
     "base_uri": "https://localhost:8080/",
     "height": 425
    },
    "executionInfo": {
     "elapsed": 357,
     "status": "ok",
     "timestamp": 1643487987450,
     "user": {
      "displayName": "Leslaw Pawlaczyk",
      "photoUrl": "https://lh3.googleusercontent.com/a-/AOh14GgnI8V6mIUOC0XwCEbi7RxZ1JbLfKTl1io0l0DBfw=s64",
      "userId": "17845568829058524609"
     },
     "user_tz": -60
    },
    "id": "y45Pb4EaZT6l",
    "outputId": "21dfa48d-0ccd-4a70-b425-cd4f9f41accc"
   },
   "outputs": [
    {
     "data": {
      "text/html": [
       "<div>\n",
       "<style scoped>\n",
       "    .dataframe tbody tr th:only-of-type {\n",
       "        vertical-align: middle;\n",
       "    }\n",
       "\n",
       "    .dataframe tbody tr th {\n",
       "        vertical-align: top;\n",
       "    }\n",
       "\n",
       "    .dataframe thead th {\n",
       "        text-align: right;\n",
       "    }\n",
       "</style>\n",
       "<table border=\"1\" class=\"dataframe\">\n",
       "  <thead>\n",
       "    <tr style=\"text-align: right;\">\n",
       "      <th></th>\n",
       "      <th>0</th>\n",
       "      <th>1</th>\n",
       "      <th>2</th>\n",
       "      <th>3</th>\n",
       "      <th>4</th>\n",
       "      <th>5</th>\n",
       "      <th>6</th>\n",
       "      <th>7</th>\n",
       "      <th>8</th>\n",
       "      <th>9</th>\n",
       "      <th>10</th>\n",
       "      <th>11</th>\n",
       "    </tr>\n",
       "  </thead>\n",
       "  <tbody>\n",
       "    <tr>\n",
       "      <th>0</th>\n",
       "      <td>0.000000</td>\n",
       "      <td>1.498234</td>\n",
       "      <td>1.601317</td>\n",
       "      <td>0.216666</td>\n",
       "      <td>1.373697</td>\n",
       "      <td>1.320631</td>\n",
       "      <td>0.925687</td>\n",
       "      <td>0.211104</td>\n",
       "      <td>1.177404</td>\n",
       "      <td>1.285826</td>\n",
       "      <td>0.650626</td>\n",
       "      <td>1.166210</td>\n",
       "    </tr>\n",
       "    <tr>\n",
       "      <th>1</th>\n",
       "      <td>1.498234</td>\n",
       "      <td>0.000000</td>\n",
       "      <td>0.263818</td>\n",
       "      <td>1.658129</td>\n",
       "      <td>2.147025</td>\n",
       "      <td>2.064196</td>\n",
       "      <td>0.574937</td>\n",
       "      <td>1.694247</td>\n",
       "      <td>2.056642</td>\n",
       "      <td>2.136295</td>\n",
       "      <td>1.991490</td>\n",
       "      <td>0.341205</td>\n",
       "    </tr>\n",
       "    <tr>\n",
       "      <th>2</th>\n",
       "      <td>1.601317</td>\n",
       "      <td>0.263818</td>\n",
       "      <td>0.000000</td>\n",
       "      <td>1.780813</td>\n",
       "      <td>2.374620</td>\n",
       "      <td>2.292395</td>\n",
       "      <td>0.718618</td>\n",
       "      <td>1.806668</td>\n",
       "      <td>2.272322</td>\n",
       "      <td>2.356756</td>\n",
       "      <td>2.028495</td>\n",
       "      <td>0.525788</td>\n",
       "    </tr>\n",
       "    <tr>\n",
       "      <th>3</th>\n",
       "      <td>0.216666</td>\n",
       "      <td>1.658129</td>\n",
       "      <td>1.780813</td>\n",
       "      <td>0.000000</td>\n",
       "      <td>1.210774</td>\n",
       "      <td>1.165502</td>\n",
       "      <td>1.083388</td>\n",
       "      <td>0.081503</td>\n",
       "      <td>1.007772</td>\n",
       "      <td>1.115001</td>\n",
       "      <td>0.697919</td>\n",
       "      <td>1.319604</td>\n",
       "    </tr>\n",
       "    <tr>\n",
       "      <th>4</th>\n",
       "      <td>1.373697</td>\n",
       "      <td>2.147025</td>\n",
       "      <td>2.374620</td>\n",
       "      <td>1.210774</td>\n",
       "      <td>0.000000</td>\n",
       "      <td>0.083176</td>\n",
       "      <td>1.710744</td>\n",
       "      <td>1.281539</td>\n",
       "      <td>0.208028</td>\n",
       "      <td>0.116245</td>\n",
       "      <td>1.869994</td>\n",
       "      <td>1.851832</td>\n",
       "    </tr>\n",
       "    <tr>\n",
       "      <th>5</th>\n",
       "      <td>1.320631</td>\n",
       "      <td>2.064196</td>\n",
       "      <td>2.292395</td>\n",
       "      <td>1.165502</td>\n",
       "      <td>0.083176</td>\n",
       "      <td>0.000000</td>\n",
       "      <td>1.631098</td>\n",
       "      <td>1.238479</td>\n",
       "      <td>0.191286</td>\n",
       "      <td>0.140904</td>\n",
       "      <td>1.835178</td>\n",
       "      <td>1.769992</td>\n",
       "    </tr>\n",
       "    <tr>\n",
       "      <th>6</th>\n",
       "      <td>0.925687</td>\n",
       "      <td>0.574937</td>\n",
       "      <td>0.718618</td>\n",
       "      <td>1.083388</td>\n",
       "      <td>1.710744</td>\n",
       "      <td>1.631098</td>\n",
       "      <td>0.000000</td>\n",
       "      <td>1.119529</td>\n",
       "      <td>1.586588</td>\n",
       "      <td>1.678360</td>\n",
       "      <td>1.456489</td>\n",
       "      <td>0.241027</td>\n",
       "    </tr>\n",
       "    <tr>\n",
       "      <th>7</th>\n",
       "      <td>0.211104</td>\n",
       "      <td>1.694247</td>\n",
       "      <td>1.806668</td>\n",
       "      <td>0.081503</td>\n",
       "      <td>1.281539</td>\n",
       "      <td>1.238479</td>\n",
       "      <td>1.119529</td>\n",
       "      <td>0.000000</td>\n",
       "      <td>1.077010</td>\n",
       "      <td>1.183497</td>\n",
       "      <td>0.617042</td>\n",
       "      <td>1.358182</td>\n",
       "    </tr>\n",
       "    <tr>\n",
       "      <th>8</th>\n",
       "      <td>1.177404</td>\n",
       "      <td>2.056642</td>\n",
       "      <td>2.272322</td>\n",
       "      <td>1.007772</td>\n",
       "      <td>0.208028</td>\n",
       "      <td>0.191286</td>\n",
       "      <td>1.586588</td>\n",
       "      <td>1.077010</td>\n",
       "      <td>0.000000</td>\n",
       "      <td>0.108490</td>\n",
       "      <td>1.662238</td>\n",
       "      <td>1.746626</td>\n",
       "    </tr>\n",
       "    <tr>\n",
       "      <th>9</th>\n",
       "      <td>1.285826</td>\n",
       "      <td>2.136295</td>\n",
       "      <td>2.356756</td>\n",
       "      <td>1.115001</td>\n",
       "      <td>0.116245</td>\n",
       "      <td>0.140904</td>\n",
       "      <td>1.678360</td>\n",
       "      <td>1.183497</td>\n",
       "      <td>0.108490</td>\n",
       "      <td>0.000000</td>\n",
       "      <td>1.764607</td>\n",
       "      <td>1.831677</td>\n",
       "    </tr>\n",
       "    <tr>\n",
       "      <th>10</th>\n",
       "      <td>0.650626</td>\n",
       "      <td>1.991490</td>\n",
       "      <td>2.028495</td>\n",
       "      <td>0.697919</td>\n",
       "      <td>1.869994</td>\n",
       "      <td>1.835178</td>\n",
       "      <td>1.456489</td>\n",
       "      <td>0.617042</td>\n",
       "      <td>1.662238</td>\n",
       "      <td>1.764607</td>\n",
       "      <td>0.000000</td>\n",
       "      <td>1.690931</td>\n",
       "    </tr>\n",
       "    <tr>\n",
       "      <th>11</th>\n",
       "      <td>1.166210</td>\n",
       "      <td>0.341205</td>\n",
       "      <td>0.525788</td>\n",
       "      <td>1.319604</td>\n",
       "      <td>1.851832</td>\n",
       "      <td>1.769992</td>\n",
       "      <td>0.241027</td>\n",
       "      <td>1.358182</td>\n",
       "      <td>1.746626</td>\n",
       "      <td>1.831677</td>\n",
       "      <td>1.690931</td>\n",
       "      <td>0.000000</td>\n",
       "    </tr>\n",
       "  </tbody>\n",
       "</table>\n",
       "</div>"
      ],
      "text/plain": [
       "          0         1         2         3         4         5         6   \\\n",
       "0   0.000000  1.498234  1.601317  0.216666  1.373697  1.320631  0.925687   \n",
       "1   1.498234  0.000000  0.263818  1.658129  2.147025  2.064196  0.574937   \n",
       "2   1.601317  0.263818  0.000000  1.780813  2.374620  2.292395  0.718618   \n",
       "3   0.216666  1.658129  1.780813  0.000000  1.210774  1.165502  1.083388   \n",
       "4   1.373697  2.147025  2.374620  1.210774  0.000000  0.083176  1.710744   \n",
       "5   1.320631  2.064196  2.292395  1.165502  0.083176  0.000000  1.631098   \n",
       "6   0.925687  0.574937  0.718618  1.083388  1.710744  1.631098  0.000000   \n",
       "7   0.211104  1.694247  1.806668  0.081503  1.281539  1.238479  1.119529   \n",
       "8   1.177404  2.056642  2.272322  1.007772  0.208028  0.191286  1.586588   \n",
       "9   1.285826  2.136295  2.356756  1.115001  0.116245  0.140904  1.678360   \n",
       "10  0.650626  1.991490  2.028495  0.697919  1.869994  1.835178  1.456489   \n",
       "11  1.166210  0.341205  0.525788  1.319604  1.851832  1.769992  0.241027   \n",
       "\n",
       "          7         8         9         10        11  \n",
       "0   0.211104  1.177404  1.285826  0.650626  1.166210  \n",
       "1   1.694247  2.056642  2.136295  1.991490  0.341205  \n",
       "2   1.806668  2.272322  2.356756  2.028495  0.525788  \n",
       "3   0.081503  1.007772  1.115001  0.697919  1.319604  \n",
       "4   1.281539  0.208028  0.116245  1.869994  1.851832  \n",
       "5   1.238479  0.191286  0.140904  1.835178  1.769992  \n",
       "6   1.119529  1.586588  1.678360  1.456489  0.241027  \n",
       "7   0.000000  1.077010  1.183497  0.617042  1.358182  \n",
       "8   1.077010  0.000000  0.108490  1.662238  1.746626  \n",
       "9   1.183497  0.108490  0.000000  1.764607  1.831677  \n",
       "10  0.617042  1.662238  1.764607  0.000000  1.690931  \n",
       "11  1.358182  1.746626  1.831677  1.690931  0.000000  "
      ]
     },
     "execution_count": 5,
     "metadata": {},
     "output_type": "execute_result"
    }
   ],
   "source": [
    "# compute distance matrix\n",
    "df = pd.DataFrame(zip(x, y), columns=['x', 'y'], index = labels)\n",
    "distMatrix"
   ]
  },
  {
   "cell_type": "markdown",
   "metadata": {
    "id": "XBVa-Pj7aDlv"
   },
   "source": [
    "**PERFORM HIERARCHICAL CLUSTERING**"
   ]
  },
  {
   "cell_type": "code",
   "execution_count": 12,
   "metadata": {
    "colab": {
     "base_uri": "https://localhost:8080/",
     "height": 323
    },
    "executionInfo": {
     "elapsed": 233,
     "status": "ok",
     "timestamp": 1643487991361,
     "user": {
      "displayName": "Leslaw Pawlaczyk",
      "photoUrl": "https://lh3.googleusercontent.com/a-/AOh14GgnI8V6mIUOC0XwCEbi7RxZ1JbLfKTl1io0l0DBfw=s64",
      "userId": "17845568829058524609"
     },
     "user_tz": -60
    },
    "id": "0tK7O20taIhA",
    "outputId": "877b09c3-8da3-4d30-bb92-6f5ccf010f9c"
   },
   "outputs": [],
   "source": [
    "from scipy.spatial.distance import pdist, squareform\n",
    "\n",
    "distMatrix = squareform(pdist(np.column_stack((x, y))))"
   ]
  },
  {
   "cell_type": "markdown",
   "metadata": {
    "id": "W9ZVhmnqeSza"
   },
   "source": [
    "**PLOT UNCLUSTERED DATA AS A HEATMAP**"
   ]
  },
  {
   "cell_type": "code",
   "execution_count": 15,
   "metadata": {
    "executionInfo": {
     "elapsed": 228,
     "status": "ok",
     "timestamp": 1643487994976,
     "user": {
      "displayName": "Leslaw Pawlaczyk",
      "photoUrl": "https://lh3.googleusercontent.com/a-/AOh14GgnI8V6mIUOC0XwCEbi7RxZ1JbLfKTl1io0l0DBfw=s64",
      "userId": "17845568829058524609"
     },
     "user_tz": -60
    },
    "id": "T06e5uFoeWr0"
   },
   "outputs": [],
   "source": [
    "def plot_heatmap(order):\n",
    "\n",
    "  # plot\n",
    "  fig = plt.figure(figsize=(8,8))\n",
    "  ax = fig.add_subplot(111)\n",
    "\n",
    "  cax = ax.matshow(order, interpolation='nearest', cmap='hot_r')\n",
    "\n",
    "  ticks=np.arange(-.55, 12, 1)\n",
    "  plt.yticks(ticks)\n",
    "  fig.colorbar(cax)\n",
    "\n",
    "  ax.set_xticks(np.arange(len(order.columns)+1))\n",
    "  ax.set_xticklabels([''] + list(order.columns), rotation=90)\n",
    "  ax.set_yticklabels([''] + list(order.index))\n",
    "\n",
    "  plt.show()"
   ]
  },
  {
   "cell_type": "code",
   "execution_count": 16,
   "metadata": {
    "colab": {
     "base_uri": "https://localhost:8080/",
     "height": 487
    },
    "executionInfo": {
     "elapsed": 365,
     "status": "ok",
     "timestamp": 1643487998647,
     "user": {
      "displayName": "Leslaw Pawlaczyk",
      "photoUrl": "https://lh3.googleusercontent.com/a-/AOh14GgnI8V6mIUOC0XwCEbi7RxZ1JbLfKTl1io0l0DBfw=s64",
      "userId": "17845568829058524609"
     },
     "user_tz": -60
    },
    "id": "cok8LjBgjLib",
    "outputId": "de537acf-df01-4b3c-c315-e6108888040f"
   },
   "outputs": [
    {
     "data": {
      "image/png": "[encoded data removed]",
      "text/plain": [
       "<Figure size 800x800 with 2 Axes>"
      ]
     },
     "metadata": {},
     "output_type": "display_data"
    }
   ],
   "source": [
    "plot_heatmap(df)"
   ]
  },
  {
   "cell_type": "code",
   "execution_count": 17,
   "metadata": {
    "colab": {
     "base_uri": "https://localhost:8080/"
    },
    "executionInfo": {
     "elapsed": 542,
     "status": "ok",
     "timestamp": 1643488005313,
     "user": {
      "displayName": "Leslaw Pawlaczyk",
      "photoUrl": "https://lh3.googleusercontent.com/a-/AOh14GgnI8V6mIUOC0XwCEbi7RxZ1JbLfKTl1io0l0DBfw=s64",
      "userId": "17845568829058524609"
     },
     "user_tz": -60
    },
    "id": "zNqZAfLiYWoj",
    "outputId": "19459c83-9909-4d9d-c775-3eb1085d0f68"
   },
   "outputs": [
    {
     "data": {
      "text/plain": [
       "[1, 2, 6, 11, 8, 9, 4, 5, 10, 0, 3, 7]"
      ]
     },
     "execution_count": 17,
     "metadata": {},
     "output_type": "execute_result"
    }
   ],
   "source": [
    "R['leaves']"
   ]
  },
  {
   "cell_type": "markdown",
   "metadata": {
    "id": "SiVqaGf9eubF"
   },
   "source": [
    "**PLOT HEATMAP OF DATA WITH RESPECT TO CLUSTERING**"
   ]
  },
  {
   "cell_type": "code",
   "execution_count": 18,
   "metadata": {
    "colab": {
     "base_uri": "https://localhost:8080/",
     "height": 489
    },
    "executionInfo": {
     "elapsed": 272,
     "status": "ok",
     "timestamp": 1643488050650,
     "user": {
      "displayName": "Leslaw Pawlaczyk",
      "photoUrl": "https://lh3.googleusercontent.com/a-/AOh14GgnI8V6mIUOC0XwCEbi7RxZ1JbLfKTl1io0l0DBfw=s64",
      "userId": "17845568829058524609"
     },
     "user_tz": -60
    },
    "id": "0uRADKd6e4JK",
    "outputId": "e53b6e35-b60e-4720-b3f0-c53ce599412c"
   },
   "outputs": [
    {
     "data": {
      "image/png": "[encoded data removed]",
      "text/plain": [
       "<Figure size 800x800 with 2 Axes>"
      ]
     },
     "metadata": {},
     "output_type": "display_data"
    }
   ],
   "source": [
    "# reorder rows with respect to the clustering\n",
    "x_ordered = []\n",
    "y_ordered = []\n",
    "labels_ordered = []\n",
    "\n",
    "for index in R['leaves']:\n",
    "  \n",
    "  label_ordered = \"Point \" + str(index)\n",
    "  point_from_unsorted = df.loc[[label_ordered]]\n",
    "\n",
    "  xint = int(point_from_unsorted['x'])\n",
    "  yint = int(point_from_unsorted['y'])\n",
    "\n",
    "  x_ordered.append(xint)\n",
    "  y_ordered.append(yint)\n",
    "  labels_ordered.append(label_ordered)\n",
    "\n",
    "zipped_ordered = zip(x_ordered, y_ordered)\n",
    "df_rowclust = pd.DataFrame(zipped_ordered, columns=['x', 'y'], index = labels_ordered)   \n",
    "\n",
    "# plot\n",
    "fig = plt.figure(figsize=(8,8))\n",
    "ax = fig.add_subplot(111)\n",
    "\n",
    "cax = ax.matshow(df_rowclust, interpolation='nearest', cmap='hot_r')\n",
    "ticks=np.arange(-.55,12,1)\n",
    "plt.yticks(ticks)\n",
    "fig.colorbar(cax)\n",
    "\n",
    "# with these lines:\n",
    "ax.set_xticks(np.arange(len(df_rowclust.columns)+1))\n",
    "ax.set_xticklabels([''] + list(df_rowclust.columns), rotation=90)\n",
    "ax.set_yticklabels([''] + list(df_rowclust.index))\n",
    "\n",
    "plt.show()"
   ]
  },
  {
   "cell_type": "code",
   "execution_count": 24,
   "metadata": {
    "colab": {
     "base_uri": "https://localhost:8080/",
     "height": 454
    },
    "executionInfo": {
     "elapsed": 479,
     "status": "ok",
     "timestamp": 1643488178090,
     "user": {
      "displayName": "Leslaw Pawlaczyk",
      "photoUrl": "https://lh3.googleusercontent.com/a-/AOh14GgnI8V6mIUOC0XwCEbi7RxZ1JbLfKTl1io0l0DBfw=s64",
      "userId": "17845568829058524609"
     },
     "user_tz": -60
    },
    "id": "0BQv40iqkOZu",
    "outputId": "6ecd05d8-fbcb-44db-8774-9f802d6f4ffa"
   },
   "outputs": [
    {
     "data": {
      "image/png": "[encoded data removed]",
      "text/plain": [
       "<Figure size 1200x800 with 3 Axes>"
      ]
     },
     "metadata": {},
     "output_type": "display_data"
    }
   ],
   "source": [
    "# Calculate distance matrix and linkage matrix\n",
    "dist_matrix = pdist(df)\n",
    "link_matrix = linkage(dist_matrix, method='average')\n",
    "\n",
    "# Order rows according to dendrogram\n",
    "dendro = dendrogram(link_matrix, no_plot=True)\n",
    "df_rowclust = df.iloc[dendro['leaves']]\n",
    "\n",
    "# Plot dendrogram and heatmap\n",
    "fig, (ax1, ax2) = plt.subplots(1,2, figsize=(12,8))\n",
    "\n",
    "# Dendrogram\n",
    "ax1.set_title('Hierarchical Clustering Dendrogram')\n",
    "ax1.set_xlabel('Points')\n",
    "ax1.set_ylabel('Distance')\n",
    "dendrogram(link_matrix, labels=df.index, ax=ax1, leaf_rotation=90)\n",
    "\n",
    "# Heatmap\n",
    "ax2.set_title('Heatmap of Ordered Points')\n",
    "cax = ax2.matshow(df_rowclust, interpolation='nearest', cmap='hot_r', origin='lower')\n",
    "ax2.set_xticks(np.arange(len(df.columns)))\n",
    "ax2.set_yticks(np.arange(len(df_rowclust.index)))\n",
    "ax2.set_xticklabels(df.columns, rotation=90)\n",
    "ax2.set_yticklabels(df_rowclust.index)\n",
    "fig.colorbar(cax)\n",
    "plt.show()"
   ]
  },
  {
   "cell_type": "code",
   "execution_count": null,
   "metadata": {},
   "outputs": [],
   "source": []
  }
 ],
 "metadata": {
  "colab": {
   "authorship_tag": "ABX9TyNjwheyYtEPh/ZZo1m6eWEx",
   "collapsed_sections": [],
   "name": "hierarchical_clustering.ipynb",
   "provenance": []
  },
  "kernelspec": {
   "display_name": "Python 3 (ipykernel)",
   "language": "python",
   "name": "python3"
  },
  "language_info": {
   "codemirror_mode": {
    "name": "ipython",
    "version": 3
   },
   "file_extension": ".py",
   "mimetype": "text/x-python",
   "name": "python",
   "nbconvert_exporter": "python",
   "pygments_lexer": "ipython3",
   "version": "3.9.13"
  }
 },
 "nbformat": 4,
 "nbformat_minor": 1
}
